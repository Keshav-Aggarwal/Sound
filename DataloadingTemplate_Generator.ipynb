{
 "cells": [
  {
   "cell_type": "code",
   "execution_count": 1,
   "metadata": {},
   "outputs": [],
   "source": [
    "import os\n",
    "import sys\n",
    "\n",
    "import numpy as np\n",
    "import pandas as pd\n",
    "import matplotlib.pyplot as plt\n",
    "import glob\n",
    "import cv2\n",
    "import pickle\n",
    "from random import shuffle"
   ]
  },
  {
   "cell_type": "code",
   "execution_count": 2,
   "metadata": {},
   "outputs": [],
   "source": [
    "#UTIL FUNCTIONS\n",
    "class utils:\n",
    "    def __init__(self, logs):\n",
    "        self.logs = logs\n",
    "\n",
    "    def splitpath(self,p):\n",
    "        return p.split('/')[1]\n",
    "\n",
    "    def read_img(self,path, size = None):\n",
    "        if size is None:\n",
    "                return plt.imread(path)\n",
    "        return cv2.resize(plt.imread(path), size)\n",
    "\n",
    "    def shuffle_labeled_data(self,imgs, lbls):\n",
    "        combined = list(zip(imgs, lbls))\n",
    "        shuffle(combined)\n",
    "        imgs[:], lbls[:] = zip(*combined)\n",
    "        return imgs, lbls\n",
    "\n",
    "    def export_pickle(self, imgs, lbls, export_pickle_name):\n",
    "        with open(export_pickle_name, 'wb') as handle:\n",
    "            pickle.dump(zip(imgs, lbls), handle, protocol=pickle.HIGHEST_PROTOCOL)\n",
    "            self.log_messages(\"Data is saved in pickle file with name {}\".format(export_pickle_name), self.logs)\n",
    "\n",
    "    def import_pickle(self, import_pickle_name):\n",
    "        print(import_pickle_name)\n",
    "        with open(import_pickle_name, 'rb') as handle:\n",
    "            imgs[:], lbls[:] = zip(*pickle.load(handle))\n",
    "            self.log_messages(\"Total {} images and labels loaded from pickle file.\".format(len(imgs)), self.logs)\n",
    "            return imgs, lbls\n",
    "\n",
    "    def log_messages(self, msg, log=False):\n",
    "        if(log):\n",
    "            print(msg)"
   ]
  },
  {
   "cell_type": "code",
   "execution_count": 3,
   "metadata": {},
   "outputs": [],
   "source": [
    "UTIL = utils(True)\n",
    "\n",
    "def get_img_data(classes_path, classes, get_path_only, shuffle_data, img_format=\"png\", resize = None, batch_size = 32, return_generator = False):\n",
    "    imgs = []\n",
    "    lbls = []\n",
    "    for cp, c in zip(classes_path, classes):\n",
    "        imgs_path = glob.glob(\"{}/*.{}\".format(cp,img_format))\n",
    "        imgs.extend(imgs_path)\n",
    "        lbls.extend([c] * len(imgs_path))\n",
    "    if(shuffle_data):\n",
    "        imgs, lbls = UTIL.shuffle_labeled_data(imgs, lbls)\n",
    "    \n",
    "    if get_path_only:\n",
    "        return imgs, lbls\n",
    "    if return_generator:\n",
    "        total_batches = len(imgs) / batch_size\n",
    "        for i in range(int(total_batches)):\n",
    "            imgs_y = (UTIL.read_img(x, resize) for x in imgs[batch_size*i : batch_size*(i+1)])\n",
    "            lbls_y = lbls[batch_size*i : batch_size*(i+1)]\n",
    "            yield zip(imgs_y, lbls_y)\n",
    "    imgs = [UTIL.read_img(x, resize) for x in imgs] #list(map(read_img, imgs))\n",
    "    return imgs, lbls"
   ]
  },
  {
   "cell_type": "code",
   "execution_count": 5,
   "metadata": {},
   "outputs": [],
   "source": [
    "\n",
    "def dataset_load(dataset_dir, class_source, csv_path = None, get_path_only = False, img_format='jpg', resize = None, export_pickle_name = 'data.pickle', shuffle_data = True, log_msgs = True, batch_size = 32, return_generator = True):\n",
    "    classes = []\n",
    "    imgs = []\n",
    "    \n",
    "    if class_source == 'FOLDER':\n",
    "        classes_path = glob.glob(dataset_dir+'/*')\n",
    "        classes = list(map(UTIL.splitpath, classes_path))\n",
    "        \n",
    "        if(return_generator):\n",
    "            generator_x = get_img_data(classes_path, classes, get_path_only, img_format=img_format, resize = None, shuffle_data = shuffle_data, batch_size=batch_size, return_generator=return_generator)\n",
    "            return generator_x\n",
    "    \n",
    "        imgs, lbls = get_img_data(classes_path, classes, get_path_only, img_format=img_format, resize = None, shuffle_data = shuffle_data)\n",
    "        UTIL.log_messages(\"Total images {}\".format(len(imgs)), log_msgs)\n",
    "        \n",
    "        if export_pickle_name is not None:\n",
    "            UTIL.export_pickle(imgs, lbls, export_pickle_name)\n",
    "\n",
    "        return imgs, lbls\n",
    "    \n",
    "    if class_source == 'CSV':\n",
    "        assert (csv_path is not None), \"Please provide a valid CSV file path\"\n",
    "        \n",
    "        df = pd.read_csv(csv_path)\n",
    "        classes = list(df[\"class\"])\n",
    "        imgs_path = list(df[\"path\"])\n",
    "        if(shuffle_data):\n",
    "            imgs, lbls = UTIL.shuffle_labeled_data(imgs_path, classes)\n",
    "            \n",
    "        imgs = [UTIL.read_img(x, size=resize) for x in imgs_path] #map(read_img, list(df[\"path\"]))       \n",
    "        \n",
    "        UTIL.log_messages(\"Total images {}\".format(len(imgs)), log_msgs)    \n",
    "\n",
    "        if export_pickle_name is not None:\n",
    "            UTIL.export_pickle(imgs, lbls, export_pickle_name)\n",
    "\n",
    "        return imgs, lbls\n",
    "    \n",
    "def dataset_load_pickle(path, shuffle = True):\n",
    "    imgs, lbls = UTIL.import_pickle(path)\n",
    "    if shuffle:\n",
    "        imgs, lbls = UTIL.shuffle_labeled_data(imgs, lbls)\n",
    "    return imgs.lbls\n"
   ]
  },
  {
   "cell_type": "code",
   "execution_count": 6,
   "metadata": {},
   "outputs": [],
   "source": [
    "gen = dataset_load('output/', 'FOLDER', get_path_only = False, img_format='png')"
   ]
  },
  {
   "cell_type": "code",
   "execution_count": null,
   "metadata": {},
   "outputs": [],
   "source": [
    "dataset_load_pickle('data.pickle')    "
   ]
  },
  {
   "cell_type": "code",
   "execution_count": 10,
   "metadata": {},
   "outputs": [],
   "source": [
    "v = next(gen)\n",
    "a, b = zip(*v)"
   ]
  },
  {
   "cell_type": "code",
   "execution_count": 11,
   "metadata": {},
   "outputs": [
    {
     "name": "stdout",
     "output_type": "stream",
     "text": [
      "('6', '7', '4', '7', '5', '2', '6', '6', '0', '1', '5', '0', '6', '5', '0', '2', '3', '0', '4', '0', '5', '5', '1', '7', '6', '3', '7', '4', '3', '1', '3', '1')\n"
     ]
    }
   ],
   "source": [
    "print(b)"
   ]
  },
  {
   "cell_type": "code",
   "execution_count": null,
   "metadata": {},
   "outputs": [],
   "source": []
  }
 ],
 "metadata": {
  "kernelspec": {
   "display_name": "Python 3",
   "language": "python",
   "name": "python3"
  },
  "language_info": {
   "codemirror_mode": {
    "name": "ipython",
    "version": 3
   },
   "file_extension": ".py",
   "mimetype": "text/x-python",
   "name": "python",
   "nbconvert_exporter": "python",
   "pygments_lexer": "ipython3",
   "version": "3.6.7"
  }
 },
 "nbformat": 4,
 "nbformat_minor": 2
}
